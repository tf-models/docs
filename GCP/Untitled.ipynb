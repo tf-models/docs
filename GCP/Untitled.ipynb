{
 "cells": [
  {
   "cell_type": "markdown",
   "id": "breeding-copper",
   "metadata": {},
   "source": [
    "# Run Colab on GCP "
   ]
  },
  {
   "cell_type": "markdown",
   "id": "mexican-intersection",
   "metadata": {},
   "source": [
    "Login your GCP account, search `deep learning VM`. "
   ]
  },
  {
   "cell_type": "markdown",
   "id": "funded-despite",
   "metadata": {},
   "source": [
    "Follow the steps below to link up your Colab notebooks to a powerful backend that you can configure yourself.\n",
    "\n",
    "### Step 1: Spin up a GCP Compute Engine instance\n",
    "\n",
    "skip \n",
    "\n",
    "### Step 2: Install Google Cloud SDK:\n",
    "\n",
    "using the quick start for your operating system, https://cloud.google.com/sdk/docs/quickstarts .\n",
    "\n",
    "After gcloud is setup, run the following command and follow the interactive steps to setup the GCloud SDK for your google account.\n",
    "\n",
    "```shell\n",
    "$ gcloud init\n",
    "```\n",
    "\n",
    "### Step 3: Connect to your server and forward your port\n",
    "\n",
    "Run the following code to ssh into your instance and setup port forwarding using the `-L` flag\n",
    "\n",
    "```shell\n",
    "$ gcloud compute ssh colab-backend --zone=europe-west4-a -L 8081:locahost:8081\n",
    "```\n",
    "\n",
    "### Step 4: Run a Jupyter Notebook server on your instance\n",
    "\n",
    "Run the following code to install and setup the necessary libraries to allow you to connect up to a Colab frontend.\n",
    "\n",
    "```shell\n",
    "pip install jupyter_http_over_ws\n",
    "jupyter serverextension enable --py jupyter_http_over_ws\n",
    "jupyter notebook \\\n",
    "  --NotebookApp.allow_origin='https://colab.research.google.com' \\\n",
    "  --port=8081 \\\n",
    "  --NotebookApp.port_retries=0 \\\n",
    "  --no-browser\n",
    "```\n",
    "\n",
    "You should end up with output close to the image below. Now copy and paste the URL into your **Chrome** browser."
   ]
  },
  {
   "cell_type": "code",
   "execution_count": null,
   "id": "agreed-roberts",
   "metadata": {},
   "outputs": [],
   "source": []
  }
 ],
 "metadata": {
  "kernelspec": {
   "display_name": "Python 3",
   "language": "python",
   "name": "python3"
  },
  "language_info": {
   "codemirror_mode": {
    "name": "ipython",
    "version": 3
   },
   "file_extension": ".py",
   "mimetype": "text/x-python",
   "name": "python",
   "nbconvert_exporter": "python",
   "pygments_lexer": "ipython3",
   "version": "3.8.2"
  }
 },
 "nbformat": 4,
 "nbformat_minor": 5
}
